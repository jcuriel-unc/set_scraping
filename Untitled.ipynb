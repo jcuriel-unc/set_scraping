{
 "cells": [
  {
   "cell_type": "code",
   "execution_count": 9,
   "id": "2bea52f1",
   "metadata": {},
   "outputs": [
    {
     "name": "stdout",
     "output_type": "stream",
     "text": [
      "Requirement already satisfied: numpy in c:\\users\\j-curiel\\anaconda3\\lib\\site-packages (1.21.5)\n"
     ]
    }
   ],
   "source": [
    "##########################################################################\n",
    "##### Template code and instructions to scrape Rate My Professor Comments#\n",
    "##########################################################################\n",
    "### Step 1: install packages - \n",
    "##### packages are necessary to install and load, given that they have the built in functions necessary to run complex tasks. \n",
    "## They effectively act as one of the most crucial time saving activities that would otherwise lead to overly long and \n",
    "## duplicative scripts. \n",
    "\n",
    "## install pkgs \n",
    "import sys\n",
    "!{sys.executable} -m pip install numpy\n",
    "# !{sys.executable} -m pip install requests #; this code here can be used to install packages on anaconda/jupyter notebook \n",
    "### I believe the below should be installed by default \n",
    "import requests # web scraping \n",
    "from bs4 import BeautifulSoup # for web scraping \n",
    "import itertools # for efficient operation of loops \n",
    "import pandas as pd # necessary for reading in, creating, and manipulating data frames \n",
    "import csv ## for importing/exporting csvs "
   ]
  },
  {
   "cell_type": "code",
   "execution_count": 10,
   "id": "55c411e8",
   "metadata": {},
   "outputs": [
    {
     "data": {
      "text/plain": [
       "['https://www.ratemyprofessors.com/professor/1190096',\n",
       " 'https://www.ratemyprofessors.com/professor/2070585']"
      ]
     },
     "execution_count": 10,
     "metadata": {},
     "output_type": "execute_result"
    }
   ],
   "source": [
    "### Step 2: name the url you will be scraping from, school, and prof name \n",
    "## note: This will be the section that you update manually the most. The rest should be automated \n",
    "\n",
    "## url to use ; will be the profs page, with the numeric code being what changes; should be changed manually \n",
    "url = ['https://www.ratemyprofessors.com/professor/1190096','https://www.ratemyprofessors.com/professor/2070585']\n",
    "\n",
    "## college \n",
    "college = \"OHIO STATE UNIVERSITY\" # change as needed \n",
    "\n",
    "##prof last name \n",
    "prof_lastname = \"BOWEN\"\n",
    "\n",
    "# prof first name \n",
    "prof_firstname = \"RACHEL\"\n",
    "\n",
    "## note: you will want to manually seach the rate my professor website for the professor of interest. From there, you will \n",
    "# be able to grab the url for the professor of interest, which will be the last numeric digits of the url that will vary. \n",
    "url"
   ]
  },
  {
   "cell_type": "code",
   "execution_count": 13,
   "id": "cde90d3d",
   "metadata": {},
   "outputs": [
    {
     "data": {
      "text/plain": [
       "<Response [200]>"
      ]
     },
     "execution_count": 13,
     "metadata": {},
     "output_type": "execute_result"
    }
   ],
   "source": [
    "### Step 3: grab the elements from the url \n",
    "\n",
    "### note: will need to run the loop here \n",
    "\n",
    "### now scrape the url for elements \n",
    "page = requests.get(url[0]) ## for syntax, the \"requests\" relates to the library pulling from, the \".\" as a means to pull the \n",
    "## command from the requests pkg, and the () signaling what object you are pulling from, which in this case is the url \n",
    "page # should be 200; if not, probably error \n",
    "\n",
    "### we will want to create a loop where the university and names are imported in step 2. \n"
   ]
  },
  {
   "cell_type": "code",
   "execution_count": null,
   "id": "83c34ec1",
   "metadata": {},
   "outputs": [],
   "source": []
  }
 ],
 "metadata": {
  "kernelspec": {
   "display_name": "Python 3 (ipykernel)",
   "language": "python",
   "name": "python3"
  },
  "language_info": {
   "codemirror_mode": {
    "name": "ipython",
    "version": 3
   },
   "file_extension": ".py",
   "mimetype": "text/x-python",
   "name": "python",
   "nbconvert_exporter": "python",
   "pygments_lexer": "ipython3",
   "version": "3.9.13"
  }
 },
 "nbformat": 4,
 "nbformat_minor": 5
}
